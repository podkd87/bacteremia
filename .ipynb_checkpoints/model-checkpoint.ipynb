{
 "cells": [
  {
   "cell_type": "code",
   "execution_count": 23,
   "metadata": {},
   "outputs": [],
   "source": [
    "import pandas as pd\n",
    "import numpy as np\n",
    "from IPython.core.interactiveshell import InteractiveShell\n",
    "InteractiveShell.ast_node_interactivity = \"all\" #\"last expr -> all로 바꾸면 전체가 나온다. \"\n",
    "pd.options.display.max_columns = 200\n",
    "pd.options.display.max_rows = 250\n",
    "pd.options.display.max_colwidth = 100"
   ]
  },
  {
   "cell_type": "code",
   "execution_count": 24,
   "metadata": {},
   "outputs": [],
   "source": [
    "import matplotlib.pyplot as plt\n",
    "\n",
    "from keras.models import Sequential\n",
    "from keras.layers import Dense\n",
    "from keras.layers import LSTM,GRU\n",
    "from keras.layers import Lambda\n",
    "from keras.layers.wrappers import TimeDistributed\n",
    "from keras.optimizers import RMSprop,adam\n",
    "from keras.callbacks import History\n",
    "from keras.layers import Input, Dense\n",
    "from keras.models import Model\n",
    "from keras.callbacks import EarlyStopping\n",
    "from keras.callbacks import ModelCheckpoint\n",
    "from keras.layers.normalization import BatchNormalization\n",
    "from keras_radam import RAdam\n",
    "from keras import layers\n",
    "import keras\n"
   ]
  },
  {
   "cell_type": "code",
   "execution_count": 3,
   "metadata": {},
   "outputs": [],
   "source": [
    "from sklearn.metrics import average_precision_score\n",
    "from sklearn.metrics import precision_recall_curve\n",
    "import matplotlib.pyplot as plt\n",
    "from inspect import signature\n",
    "from sklearn.metrics import roc_curve, auc\n",
    "from sklearn.metrics import roc_auc_score\n",
    "from keras.models import model_from_json "
   ]
  },
  {
   "cell_type": "code",
   "execution_count": 4,
   "metadata": {},
   "outputs": [],
   "source": [
    "from keras.models import model_from_json "
   ]
  },
  {
   "cell_type": "code",
   "execution_count": 8,
   "metadata": {},
   "outputs": [],
   "source": [
    "from big_generator import file_generator \n",
    "from big_generator import file_generator_valid\n",
    "from big_generator import file_generator_cul\n",
    "from big_generator import generator_cul"
   ]
  },
  {
   "cell_type": "code",
   "execution_count": 10,
   "metadata": {},
   "outputs": [],
   "source": [
    "baseline = pd.read_csv(\"../learning/datafile/pd_baseline.csv\")\n",
    "baseline=baseline.drop([\"Unnamed: 0\"], axis=1)"
   ]
  },
  {
   "cell_type": "code",
   "execution_count": 12,
   "metadata": {},
   "outputs": [
    {
     "data": {
      "text/html": [
       "<div>\n",
       "<style scoped>\n",
       "    .dataframe tbody tr th:only-of-type {\n",
       "        vertical-align: middle;\n",
       "    }\n",
       "\n",
       "    .dataframe tbody tr th {\n",
       "        vertical-align: top;\n",
       "    }\n",
       "\n",
       "    .dataframe thead th {\n",
       "        text-align: right;\n",
       "    }\n",
       "</style>\n",
       "<table border=\"1\" class=\"dataframe\">\n",
       "  <thead>\n",
       "    <tr style=\"text-align: right;\">\n",
       "      <th></th>\n",
       "      <th>idx</th>\n",
       "      <th>admday</th>\n",
       "      <th>opday</th>\n",
       "      <th>3</th>\n",
       "      <th>4</th>\n",
       "      <th>5</th>\n",
       "      <th>6</th>\n",
       "      <th>7</th>\n",
       "      <th>8</th>\n",
       "      <th>9</th>\n",
       "      <th>10</th>\n",
       "      <th>11</th>\n",
       "      <th>12</th>\n",
       "      <th>13</th>\n",
       "      <th>14</th>\n",
       "      <th>15</th>\n",
       "      <th>16</th>\n",
       "      <th>17</th>\n",
       "      <th>18</th>\n",
       "      <th>19</th>\n",
       "      <th>20</th>\n",
       "      <th>21</th>\n",
       "      <th>22</th>\n",
       "      <th>23</th>\n",
       "      <th>24</th>\n",
       "      <th>25</th>\n",
       "      <th>26</th>\n",
       "      <th>27</th>\n",
       "      <th>28</th>\n",
       "      <th>29</th>\n",
       "      <th>30</th>\n",
       "      <th>31</th>\n",
       "      <th>32</th>\n",
       "      <th>33</th>\n",
       "      <th>34</th>\n",
       "      <th>35</th>\n",
       "      <th>36</th>\n",
       "      <th>37</th>\n",
       "      <th>38</th>\n",
       "      <th>39</th>\n",
       "      <th>40</th>\n",
       "    </tr>\n",
       "  </thead>\n",
       "  <tbody>\n",
       "    <tr>\n",
       "      <td>0</td>\n",
       "      <td>1166795967</td>\n",
       "      <td>20160815</td>\n",
       "      <td>20160816</td>\n",
       "      <td>1</td>\n",
       "      <td>1</td>\n",
       "      <td>0</td>\n",
       "      <td>0</td>\n",
       "      <td>0</td>\n",
       "      <td>0.413528</td>\n",
       "      <td>-1.099884</td>\n",
       "      <td>-1.087010</td>\n",
       "      <td>0.718659</td>\n",
       "      <td>0.324344</td>\n",
       "      <td>-0.807898</td>\n",
       "      <td>-2.006887</td>\n",
       "      <td>-0.548219</td>\n",
       "      <td>-1.284691</td>\n",
       "      <td>0.522189</td>\n",
       "      <td>6.899251</td>\n",
       "      <td>0.000000</td>\n",
       "      <td>25.689499</td>\n",
       "      <td>5.359809</td>\n",
       "      <td>9.749975</td>\n",
       "      <td>3.880541</td>\n",
       "      <td>5.110438</td>\n",
       "      <td>3.511160</td>\n",
       "      <td>4.511642</td>\n",
       "      <td>4.585694</td>\n",
       "      <td>4.943656</td>\n",
       "      <td>6.817242</td>\n",
       "      <td>8.336339</td>\n",
       "      <td>0.469939</td>\n",
       "      <td>0.744466</td>\n",
       "      <td>0.843393</td>\n",
       "      <td>0.651387</td>\n",
       "      <td>0.364311</td>\n",
       "      <td>2.386570</td>\n",
       "      <td>2.788405</td>\n",
       "      <td>2.472394</td>\n",
       "      <td>2.965544</td>\n",
       "      <td>2.699179</td>\n",
       "    </tr>\n",
       "    <tr>\n",
       "      <td>1</td>\n",
       "      <td>1166798192</td>\n",
       "      <td>20080712</td>\n",
       "      <td>20080714</td>\n",
       "      <td>0</td>\n",
       "      <td>0</td>\n",
       "      <td>1</td>\n",
       "      <td>0</td>\n",
       "      <td>0</td>\n",
       "      <td>0.954871</td>\n",
       "      <td>1.134563</td>\n",
       "      <td>1.207545</td>\n",
       "      <td>-0.929201</td>\n",
       "      <td>-1.071646</td>\n",
       "      <td>-1.836597</td>\n",
       "      <td>-1.640118</td>\n",
       "      <td>-1.309416</td>\n",
       "      <td>-0.516697</td>\n",
       "      <td>1.730198</td>\n",
       "      <td>0.000000</td>\n",
       "      <td>23.324238</td>\n",
       "      <td>4.610660</td>\n",
       "      <td>10.773179</td>\n",
       "      <td>8.050953</td>\n",
       "      <td>9.421379</td>\n",
       "      <td>4.675070</td>\n",
       "      <td>4.939130</td>\n",
       "      <td>6.741050</td>\n",
       "      <td>4.571187</td>\n",
       "      <td>15.599707</td>\n",
       "      <td>2.511181</td>\n",
       "      <td>9.069263</td>\n",
       "      <td>0.469939</td>\n",
       "      <td>0.744466</td>\n",
       "      <td>0.843393</td>\n",
       "      <td>0.651387</td>\n",
       "      <td>0.364311</td>\n",
       "      <td>4.311703</td>\n",
       "      <td>2.793397</td>\n",
       "      <td>2.057836</td>\n",
       "      <td>4.779967</td>\n",
       "      <td>2.363882</td>\n",
       "    </tr>\n",
       "    <tr>\n",
       "      <td>2</td>\n",
       "      <td>1166798478</td>\n",
       "      <td>20110510</td>\n",
       "      <td>20110513</td>\n",
       "      <td>0</td>\n",
       "      <td>0</td>\n",
       "      <td>0</td>\n",
       "      <td>1</td>\n",
       "      <td>0</td>\n",
       "      <td>0.684199</td>\n",
       "      <td>-0.976661</td>\n",
       "      <td>-0.954782</td>\n",
       "      <td>0.012433</td>\n",
       "      <td>2.278730</td>\n",
       "      <td>-1.420494</td>\n",
       "      <td>-1.786826</td>\n",
       "      <td>-0.979085</td>\n",
       "      <td>-0.708695</td>\n",
       "      <td>1.181103</td>\n",
       "      <td>5.156261</td>\n",
       "      <td>16.632401</td>\n",
       "      <td>14.205712</td>\n",
       "      <td>10.985126</td>\n",
       "      <td>23.161686</td>\n",
       "      <td>4.702001</td>\n",
       "      <td>4.761768</td>\n",
       "      <td>0.952568</td>\n",
       "      <td>8.202775</td>\n",
       "      <td>10.063358</td>\n",
       "      <td>6.281622</td>\n",
       "      <td>3.439430</td>\n",
       "      <td>1.209064</td>\n",
       "      <td>0.469939</td>\n",
       "      <td>0.744466</td>\n",
       "      <td>0.843393</td>\n",
       "      <td>0.651387</td>\n",
       "      <td>0.364311</td>\n",
       "      <td>2.386570</td>\n",
       "      <td>2.788405</td>\n",
       "      <td>2.472394</td>\n",
       "      <td>2.965544</td>\n",
       "      <td>2.699179</td>\n",
       "    </tr>\n",
       "    <tr>\n",
       "      <td>3</td>\n",
       "      <td>1166799387</td>\n",
       "      <td>20150319</td>\n",
       "      <td>20150324</td>\n",
       "      <td>1</td>\n",
       "      <td>0</td>\n",
       "      <td>0</td>\n",
       "      <td>1</td>\n",
       "      <td>0</td>\n",
       "      <td>0.503752</td>\n",
       "      <td>-1.214892</td>\n",
       "      <td>-1.242573</td>\n",
       "      <td>-0.458384</td>\n",
       "      <td>-0.140986</td>\n",
       "      <td>0.405736</td>\n",
       "      <td>0.780561</td>\n",
       "      <td>0.256065</td>\n",
       "      <td>0.891293</td>\n",
       "      <td>-0.246544</td>\n",
       "      <td>5.156261</td>\n",
       "      <td>16.632401</td>\n",
       "      <td>14.205712</td>\n",
       "      <td>10.985126</td>\n",
       "      <td>23.161686</td>\n",
       "      <td>4.702001</td>\n",
       "      <td>4.761768</td>\n",
       "      <td>0.952568</td>\n",
       "      <td>8.202775</td>\n",
       "      <td>10.063358</td>\n",
       "      <td>6.281622</td>\n",
       "      <td>3.439430</td>\n",
       "      <td>1.209064</td>\n",
       "      <td>0.469939</td>\n",
       "      <td>0.744466</td>\n",
       "      <td>0.843393</td>\n",
       "      <td>0.651387</td>\n",
       "      <td>0.364311</td>\n",
       "      <td>2.386570</td>\n",
       "      <td>2.788405</td>\n",
       "      <td>2.472394</td>\n",
       "      <td>2.965544</td>\n",
       "      <td>2.699179</td>\n",
       "    </tr>\n",
       "    <tr>\n",
       "      <td>4</td>\n",
       "      <td>1166799993</td>\n",
       "      <td>20151218</td>\n",
       "      <td>20151228</td>\n",
       "      <td>1</td>\n",
       "      <td>0</td>\n",
       "      <td>1</td>\n",
       "      <td>0</td>\n",
       "      <td>0</td>\n",
       "      <td>0.142857</td>\n",
       "      <td>0.649885</td>\n",
       "      <td>0.663074</td>\n",
       "      <td>0.130138</td>\n",
       "      <td>-0.792448</td>\n",
       "      <td>0.567554</td>\n",
       "      <td>0.560499</td>\n",
       "      <td>-0.318424</td>\n",
       "      <td>-0.836695</td>\n",
       "      <td>-1.674190</td>\n",
       "      <td>0.000000</td>\n",
       "      <td>11.490709</td>\n",
       "      <td>11.508369</td>\n",
       "      <td>6.690341</td>\n",
       "      <td>7.921564</td>\n",
       "      <td>8.227402</td>\n",
       "      <td>4.967529</td>\n",
       "      <td>2.086301</td>\n",
       "      <td>3.116609</td>\n",
       "      <td>7.571434</td>\n",
       "      <td>8.872069</td>\n",
       "      <td>4.365661</td>\n",
       "      <td>11.989615</td>\n",
       "      <td>0.469939</td>\n",
       "      <td>0.744466</td>\n",
       "      <td>0.843393</td>\n",
       "      <td>0.651387</td>\n",
       "      <td>0.364311</td>\n",
       "      <td>3.293770</td>\n",
       "      <td>1.712832</td>\n",
       "      <td>1.584709</td>\n",
       "      <td>6.133195</td>\n",
       "      <td>4.380298</td>\n",
       "    </tr>\n",
       "  </tbody>\n",
       "</table>\n",
       "</div>"
      ],
      "text/plain": [
       "          idx    admday     opday  3  4  5  6  7         8         9  \\\n",
       "0  1166795967  20160815  20160816  1  1  0  0  0  0.413528 -1.099884   \n",
       "1  1166798192  20080712  20080714  0  0  1  0  0  0.954871  1.134563   \n",
       "2  1166798478  20110510  20110513  0  0  0  1  0  0.684199 -0.976661   \n",
       "3  1166799387  20150319  20150324  1  0  0  1  0  0.503752 -1.214892   \n",
       "4  1166799993  20151218  20151228  1  0  1  0  0  0.142857  0.649885   \n",
       "\n",
       "         10        11        12        13        14        15        16  \\\n",
       "0 -1.087010  0.718659  0.324344 -0.807898 -2.006887 -0.548219 -1.284691   \n",
       "1  1.207545 -0.929201 -1.071646 -1.836597 -1.640118 -1.309416 -0.516697   \n",
       "2 -0.954782  0.012433  2.278730 -1.420494 -1.786826 -0.979085 -0.708695   \n",
       "3 -1.242573 -0.458384 -0.140986  0.405736  0.780561  0.256065  0.891293   \n",
       "4  0.663074  0.130138 -0.792448  0.567554  0.560499 -0.318424 -0.836695   \n",
       "\n",
       "         17        18         19         20         21         22        23  \\\n",
       "0  0.522189  6.899251   0.000000  25.689499   5.359809   9.749975  3.880541   \n",
       "1  1.730198  0.000000  23.324238   4.610660  10.773179   8.050953  9.421379   \n",
       "2  1.181103  5.156261  16.632401  14.205712  10.985126  23.161686  4.702001   \n",
       "3 -0.246544  5.156261  16.632401  14.205712  10.985126  23.161686  4.702001   \n",
       "4 -1.674190  0.000000  11.490709  11.508369   6.690341   7.921564  8.227402   \n",
       "\n",
       "         24        25        26         27         28        29         30  \\\n",
       "0  5.110438  3.511160  4.511642   4.585694   4.943656  6.817242   8.336339   \n",
       "1  4.675070  4.939130  6.741050   4.571187  15.599707  2.511181   9.069263   \n",
       "2  4.761768  0.952568  8.202775  10.063358   6.281622  3.439430   1.209064   \n",
       "3  4.761768  0.952568  8.202775  10.063358   6.281622  3.439430   1.209064   \n",
       "4  4.967529  2.086301  3.116609   7.571434   8.872069  4.365661  11.989615   \n",
       "\n",
       "         31        32        33        34        35        36        37  \\\n",
       "0  0.469939  0.744466  0.843393  0.651387  0.364311  2.386570  2.788405   \n",
       "1  0.469939  0.744466  0.843393  0.651387  0.364311  4.311703  2.793397   \n",
       "2  0.469939  0.744466  0.843393  0.651387  0.364311  2.386570  2.788405   \n",
       "3  0.469939  0.744466  0.843393  0.651387  0.364311  2.386570  2.788405   \n",
       "4  0.469939  0.744466  0.843393  0.651387  0.364311  3.293770  1.712832   \n",
       "\n",
       "         38        39        40  \n",
       "0  2.472394  2.965544  2.699179  \n",
       "1  2.057836  4.779967  2.363882  \n",
       "2  2.472394  2.965544  2.699179  \n",
       "3  2.472394  2.965544  2.699179  \n",
       "4  1.584709  6.133195  4.380298  "
      ]
     },
     "execution_count": 12,
     "metadata": {},
     "output_type": "execute_result"
    }
   ],
   "source": [
    "baseline.head()"
   ]
  },
  {
   "cell_type": "markdown",
   "metadata": {},
   "source": [
    "### data load"
   ]
  },
  {
   "cell_type": "code",
   "execution_count": 15,
   "metadata": {},
   "outputs": [],
   "source": [
    "import pickle\n",
    "import os\n",
    "positive_folder = '../learning/dataset/time3_pos_total200107/'\n",
    "negative_folder = '../learning/dataset/time3_neg_total200107/'"
   ]
  },
  {
   "cell_type": "code",
   "execution_count": 16,
   "metadata": {},
   "outputs": [],
   "source": [
    "with open(positive_folder+\"list_time_X.txt\", \"rb\") as fp:\n",
    "    list_time_X=pickle.load( fp)\n",
    "with open(positive_folder+\"list_time_y.txt\", \"rb\") as fp:\n",
    "    list_time_y=pickle.load( fp)\n",
    "with open(positive_folder+\"list_time_static.txt\", \"rb\") as fp:\n",
    "    list_time_static=pickle.load( fp)\n",
    "with open(positive_folder+\"valid_time_X.txt\", \"rb\") as fp:\n",
    "    valid_time_X=pickle.load( fp)\n",
    "with open(positive_folder+\"valid_time_y.txt\", \"rb\") as fp:\n",
    "    valid_time_y=pickle.load( fp)\n",
    "with open(positive_folder+\"valid_time_static.txt\", \"rb\") as fp:\n",
    "    valid_time_static=pickle.load( fp)\n",
    "with open(positive_folder+\"test_time_X.txt\", \"rb\") as fp:\n",
    "    test_time_X=pickle.load( fp)\n",
    "with open(positive_folder+\"test_time_y.txt\", \"rb\") as fp:\n",
    "    test_time_y=pickle.load( fp)\n",
    "with open(positive_folder+\"test_time_static.txt\", \"rb\") as fp:\n",
    "    test_time_static=pickle.load( fp)\n",
    "\n",
    "with open(negative_folder+\"list_time_Xn.txt\", \"rb\") as fp:\n",
    "    list_time_Xn=pickle.load( fp)\n",
    "with open(negative_folder+\"list_time_yn.txt\", \"rb\") as fp:\n",
    "    list_time_yn=pickle.load( fp)\n",
    "with open(negative_folder+\"list_time_nstatic.txt\", \"rb\") as fp:\n",
    "    list_time_nstatic=pickle.load( fp)\n",
    "\n",
    "with open(negative_folder+\"valid_time_Xn.txt\", \"rb\") as fp:\n",
    "    valid_time_Xn=pickle.load( fp)\n",
    "with open(negative_folder+\"valid_time_yn.txt\", \"rb\") as fp:\n",
    "    valid_time_yn=pickle.load( fp)\n",
    "with open(negative_folder+\"valid_time_staticn.txt\", \"rb\") as fp:\n",
    "    valid_time_staticn=pickle.load( fp)\n",
    "with open(negative_folder+\"test_time_Xn.txt\", \"rb\") as fp:\n",
    "    test_time_Xn=pickle.load( fp)\n",
    "with open(negative_folder+\"test_time_yn.txt\", \"rb\") as fp:\n",
    "    test_time_yn=pickle.load( fp)\n",
    "with open(negative_folder+\"test_time_staticn.txt\", \"rb\") as fp:\n",
    "    test_time_staticn=pickle.load( fp)"
   ]
  },
  {
   "cell_type": "code",
   "execution_count": 17,
   "metadata": {},
   "outputs": [],
   "source": [
    "class DataGenerator(keras.utils.Sequence):\n",
    "    'Generates data for Keras'\n",
    "    def __init__(self, window,  time_it, feature,\n",
    "                 true_X_time, true_X_static,true_y_total,\n",
    "                 false_X_time, false_X_static, false_y_total,\n",
    "                 list_time_Xn, list_time_yn, list_time_nstatic,\n",
    "                size, fraction, ratio, repeat):\n",
    "        'Initialization'\n",
    "        self.window = window\n",
    "        self.time_it = time_it\n",
    "        self.feature = feature\n",
    "        self.true_X_time = true_X_time\n",
    "        self.true_X_static = true_X_static\n",
    "        self.true_y_total = true_y_total\n",
    "        self.false_X_time = false_X_time\n",
    "        self.false_X_static = false_X_static\n",
    "        self.false_y_total = false_y_total\n",
    "        self.list_time_Xn = list_time_Xn\n",
    "        self.list_time_yn = list_time_yn\n",
    "        self.list_time_nstatic = list_time_nstatic\n",
    "        self.size = size\n",
    "        self.fraction = fraction\n",
    "        self.ratio = ratio\n",
    "        self.repeat = repeat\n",
    "\n",
    "    def __len__(self):\n",
    "        'Denotes the number of batches per epoch'\n",
    "        return int(np.floor(len(self.list_time_Xn) / 40))\n",
    "\n",
    "    def __getitem__(self, index):\n",
    "        'Generate one batch of data'\n",
    "        # Generate indexes of the batch\n",
    "        file_generator1 = file_generator(window = self.window,\n",
    "                                       time_it =self.time_it,\n",
    "                                       feature = self.feature,\n",
    "                                       true_X_time = self.true_X_time,\n",
    "                                       true_X_static = self.true_X_static,\n",
    "                                       true_y_total = self.true_y_total,\n",
    "\n",
    "                                       false_X_time = self.false_X_time,\n",
    "                                       false_X_static = self.false_X_static,\n",
    "                                       false_y_total = self.false_y_total,\n",
    "\n",
    "                                       list_time_Xn = self.list_time_Xn,\n",
    "                                       list_time_yn = self.list_time_yn,\n",
    "                                       list_time_nstatic = self.list_time_nstatic,\n",
    "                                        random_sampling_size = self.size,\n",
    "                                         fraction_per_case = self.fraction,\n",
    "                                         true_false_ratio = self.ratio,\n",
    "                                        repeat = self.repeat)\n",
    "        # Generate data\n",
    "        batch_X, batch_static_X, batch_y = file_generator1.get_data(index)\n",
    "\n",
    "        return ({\"time\":batch_X, \"static\":batch_static_X}, batch_y)"
   ]
  },
  {
   "cell_type": "markdown",
   "metadata": {},
   "source": [
    "### All the time_it, window"
   ]
  },
  {
   "cell_type": "code",
   "execution_count": 18,
   "metadata": {
    "scrolled": true
   },
   "outputs": [],
   "source": [
    "time_it = 0\n",
    "window = 30\n",
    "# windows = [3,6,12,18,24,30,36]\n",
    "feature = 100\n",
    "\n",
    "\n",
    "\n",
    "activation_set = [['tanh','relu','tanh','relu','sigmoid'],\n",
    "                 ['relu','relu','relu','relu','sigmoid']]\n",
    "                 \n",
    "learning_rate = (0.003,0.0003)\n",
    "\n",
    "# layer_set = ((16,8,8,16),\n",
    "#             (16,8,8,8),\n",
    "#             (8,8,8,8),\n",
    "#             (32,16,16,16),\n",
    "#             (32,16,8,16),\n",
    "#             (128,128,128,64))\n",
    "\n",
    "layer_set = ((32,16,16,16),\n",
    "            (32,16,8,16),\n",
    "            (128,128,128,64),\n",
    "            (256,128,256,128))\n",
    "\n",
    "history1 = []\n",
    "history_val_auc = []\n",
    "history_val_precision = []\n",
    "history_test_auc = []\n",
    "history_test_precision = []\n"
   ]
  },
  {
   "cell_type": "code",
   "execution_count": 20,
   "metadata": {},
   "outputs": [],
   "source": [
    "file_foler = './train/'\n",
    "if not os.path.exists(file_foler):\n",
    "  os.mkdir(file_foler)"
   ]
  },
  {
   "cell_type": "code",
   "execution_count": 21,
   "metadata": {
    "scrolled": true
   },
   "outputs": [],
   "source": [
    "# for window in windows:\n",
    "def time_series_generator(x,y):\n",
    "    Xn=[]\n",
    "    yn=[]\n",
    "    for n in range(len(x)-time_it):\n",
    "        if n+1>window:\n",
    "            X_train=x[n+1-window:n+1]\n",
    "        else:\n",
    "            X_train=x[0:n+1]\n",
    "            X_train=np.pad(X_train, mode='constant', pad_width=((0,window-X_train.shape[0]),(0,0)),\\\n",
    "                           constant_values=-5)\n",
    "\n",
    "        Xn.append(X_train)\n",
    "        y_train=y[n+time_it]\n",
    "        yn.append(y_train)\n",
    "\n",
    "    return Xn, yn\n",
    "\n",
    "Xt_time = []\n",
    "Xt_static = []\n",
    "yt_time = []\n",
    "\n",
    "## positive data gathering\n",
    "for idx in range(len(list_time_X)):\n",
    "    Xt_time_i = list_time_X[idx]\n",
    "    yt_time_i = list_time_y[idx]\n",
    "    Xt, yt = time_series_generator(Xt_time_i,yt_time_i)\n",
    "    time_static_data = list_time_static[idx]\n",
    "\n",
    "    for n in range(len(Xt)):\n",
    "        Xt_time.append(Xt[n])\n",
    "        Xt_static.append(time_static_data)\n",
    "        yt_time.append(yt[n])\n",
    "\n",
    "positive_index = [i for i,result in enumerate(yt_time) if result==1]\n",
    "negative_index = [i for i,result in enumerate(yt_time) if result==0]\n",
    "\n",
    "positive_x = [Xt_time[idx] for idx in positive_index]\n",
    "positive_x_static = [Xt_static[idx] for idx in positive_index]\n",
    "positive_y = [yt_time[idx] for idx in positive_index]\n",
    "\n",
    "negative_x = [Xt_time[idx] for idx in negative_index]\n",
    "negative_x_static = [Xt_static[idx] for idx in negative_index]\n",
    "negative_y = [yt_time[idx] for idx in negative_index]\n",
    "\n",
    "true_X_time = np.array(positive_x, dtype=\"float32\").reshape(-1,window,feature)\n",
    "true_X_static = np.array(positive_x_static, dtype=\"float32\").reshape(-1,38)\n",
    "true_y_total = np.array(positive_y, dtype=\"float32\").reshape(-1,)\n",
    "false_X_time = np.array(negative_x, dtype=\"float32\").reshape(-1,window,feature)\n",
    "false_X_static = np.array(negative_x_static, dtype=\"float32\").reshape(-1,38)\n",
    "false_y_total = np.array(negative_y, dtype=\"float32\").reshape(-1,)\n",
    "\n",
    "def val_generator(x,y):\n",
    "    Xn=[]\n",
    "    yn=[]\n",
    "    for n in range(len(x)-time_it):\n",
    "        if n+1>window:\n",
    "            X_train=x[n+1-window:n+1]\n",
    "        else:\n",
    "            X_train=x[0:n+1]\n",
    "            X_train=np.pad(X_train, mode='constant', pad_width=((0,window-X_train.shape[0]),(0,0)),\\\n",
    "                           constant_values=-5)\n",
    "\n",
    "        Xn.append(X_train)\n",
    "        y_train=y[n+time_it]\n",
    "        yn.append(y_train)\n",
    "\n",
    "    return Xn, yn\n",
    "\n",
    "val_Xt_time = []\n",
    "val_Xt_static = []\n",
    "val_yt_time = []\n",
    "\n",
    "## positive data gathering\n",
    "for idx in range(len(valid_time_X)):\n",
    "    Xt_time_i = valid_time_X[idx]\n",
    "    yt_time_i = valid_time_y[idx]\n",
    "    Xt, yt = val_generator(Xt_time_i,yt_time_i)\n",
    "    time_static_data = valid_time_static[idx]\n",
    "\n",
    "    for n in range(len(Xt)):\n",
    "        val_Xt_time.append(Xt[n])\n",
    "        val_Xt_static.append(time_static_data)\n",
    "        val_yt_time.append(yt[n])\n",
    "\n",
    "val_positive_index = [idx for idx,result in enumerate(val_yt_time) if result==1]\n",
    "val_negative_index = [idx for idx,result in enumerate(val_yt_time) if result==0]\n",
    "\n",
    "val_positive_x = [val_Xt_time[idx] for idx in val_positive_index]\n",
    "val_positive_x_static = [val_Xt_static[idx] for idx in val_positive_index]\n",
    "val_positive_y = [val_yt_time[idx] for idx in val_positive_index]\n",
    "\n",
    "val_negative_x = [val_Xt_time[idx] for idx in val_negative_index]\n",
    "val_negative_x_static = [val_Xt_static[idx] for idx in val_negative_index]\n",
    "val_negative_y = [val_yt_time[idx] for idx in val_negative_index]\n",
    "\n",
    "val_true_X_time = np.array(val_positive_x, dtype=\"float32\").reshape(-1,window,feature)\n",
    "val_true_X_static = np.array(val_positive_x_static, dtype=\"float32\").reshape(-1,38)\n",
    "val_true_y_total = np.array(val_positive_y, dtype=\"float32\").reshape(-1,)\n",
    "val_false_X_time = np.array(val_negative_x, dtype=\"float32\").reshape(-1,window,feature)\n",
    "val_false_X_static = np.array(val_negative_x_static, dtype=\"float32\").reshape(-1,38)\n",
    "val_false_y_total = np.array(val_negative_y, dtype=\"float32\").reshape(-1,)\n",
    "\n",
    "### valid data generator\n",
    "\n",
    "test_generator = file_generator_valid(window = window,\n",
    "                                       time_it =time_it, \n",
    "                                       feature = feature,\n",
    "                                       list_time_Xt = test_time_X, \n",
    "                                       list_time_yt = test_time_y, \n",
    "                                       list_time_tstatic = test_time_static, \n",
    "                                       list_time_Xn = test_time_Xn, \n",
    "                                       list_time_yn = test_time_yn, \n",
    "                                       list_time_nstatic = test_time_staticn)\n",
    "\n",
    "test_X, test_static_X, test_y = test_generator.get_data()\n",
    "\n",
    "params = {\"window\" : window,\n",
    "           \"time_it\" :time_it, \n",
    "          \"feature\": feature,\n",
    "           \"true_X_time\" : true_X_time, \n",
    "           \"true_X_static\" : true_X_static, \n",
    "           \"true_y_total\" : true_y_total, \n",
    "\n",
    "           \"false_X_time\" : false_X_time, \n",
    "           \"false_X_static\" : false_X_static, \n",
    "           \"false_y_total\" : false_y_total, \n",
    "\n",
    "           \"list_time_Xn\" : list_time_Xn, \n",
    "           \"list_time_yn\" : list_time_yn, \n",
    "           \"list_time_nstatic\" : list_time_nstatic,\n",
    "           \"size\" : 2500,\n",
    "           \"fraction\" : 0.2,\n",
    "            \"ratio\" : 1,\n",
    "           \"repeat\":3}\n",
    "valparams = {\"window\" : window,\n",
    "           \"time_it\" :time_it, \n",
    "          \"feature\": feature,\n",
    "           \"true_X_time\" : val_true_X_time, \n",
    "           \"true_X_static\" : val_true_X_static, \n",
    "           \"true_y_total\" : val_true_y_total, \n",
    "\n",
    "           \"false_X_time\" : val_false_X_time, \n",
    "           \"false_X_static\" : val_false_X_static, \n",
    "           \"false_y_total\" : val_false_y_total, \n",
    "\n",
    "           \"list_time_Xn\" : valid_time_Xn, \n",
    "           \"list_time_yn\" : valid_time_yn, \n",
    "           \"list_time_nstatic\" : valid_time_staticn,\n",
    "            \"size\" : 600,\n",
    "            \"fraction\" : 0.2,\n",
    "             \"ratio\" : 1,\n",
    "            \"repeat\":3}\n",
    "\n",
    "filepath = \".hdf5\"\n",
    "\n",
    "\n",
    "traingen = DataGenerator(**params)\n",
    "valid_gen = DataGenerator(**valparams)"
   ]
  },
  {
   "cell_type": "code",
   "execution_count": 26,
   "metadata": {
    "scrolled": true
   },
   "outputs": [
    {
     "data": {
      "text/plain": [
       "7251"
      ]
     },
     "execution_count": 26,
     "metadata": {},
     "output_type": "execute_result"
    },
    {
     "name": "stderr",
     "output_type": "stream",
     "text": [
      "/home/user/anaconda3/envs/park/lib/python3.7/site-packages/ipykernel_launcher.py:53: UserWarning: The semantics of the Keras 2 argument `steps_per_epoch` is not the same as the Keras 1 argument `samples_per_epoch`. `steps_per_epoch` is the number of batches to draw from the generator at each epoch. Basically steps_per_epoch = samples_per_epoch/batch_size. Similarly `nb_val_samples`->`validation_steps` and `val_samples`->`steps` arguments have changed. Update your method calls accordingly.\n",
      "/home/user/anaconda3/envs/park/lib/python3.7/site-packages/ipykernel_launcher.py:53: UserWarning: Update your `fit_generator` call to the Keras 2 API: `fit_generator(generator=<__main__...., validation_data=<__main__...., steps_per_epoch=22, validation_steps=10, verbose=1, callbacks=[<keras.ca..., workers=-1, use_multiprocessing=True, epochs=500)`\n"
     ]
    },
    {
     "name": "stdout",
     "output_type": "stream",
     "text": [
      "Epoch 1/500\n",
      "22/22 [==============================] - 36s 2s/step - loss: 0.7523 - acc: 0.6346 - val_loss: 0.3335 - val_acc: 0.8680\n",
      "Epoch 2/500\n",
      "22/22 [==============================] - 35s 2s/step - loss: 0.4884 - acc: 0.8038 - val_loss: 0.3065 - val_acc: 0.8697\n",
      "Epoch 3/500\n",
      "22/22 [==============================] - 35s 2s/step - loss: 0.3834 - acc: 0.8700 - val_loss: 0.2889 - val_acc: 0.8803\n",
      "Epoch 4/500\n",
      "22/22 [==============================] - 34s 2s/step - loss: 0.3211 - acc: 0.8909 - val_loss: 0.2671 - val_acc: 0.9050\n",
      "Epoch 5/500\n",
      "22/22 [==============================] - 34s 2s/step - loss: 0.2861 - acc: 0.8999 - val_loss: 0.2733 - val_acc: 0.9005\n",
      "Epoch 6/500\n",
      "22/22 [==============================] - 34s 2s/step - loss: 0.2613 - acc: 0.9052 - val_loss: 0.2811 - val_acc: 0.8926\n",
      "Epoch 7/500\n",
      "22/22 [==============================] - 34s 2s/step - loss: 0.2455 - acc: 0.9084 - val_loss: 0.2668 - val_acc: 0.8950\n",
      "Epoch 8/500\n",
      "22/22 [==============================] - 35s 2s/step - loss: 0.2320 - acc: 0.9120 - val_loss: 0.2796 - val_acc: 0.8938\n",
      "Epoch 9/500\n",
      "22/22 [==============================] - 34s 2s/step - loss: 0.2203 - acc: 0.9157 - val_loss: 0.2767 - val_acc: 0.8909\n",
      "Epoch 10/500\n",
      "22/22 [==============================] - 35s 2s/step - loss: 0.2095 - acc: 0.9189 - val_loss: 0.2915 - val_acc: 0.8921\n",
      "Epoch 11/500\n",
      "22/22 [==============================] - 34s 2s/step - loss: 0.1999 - acc: 0.9220 - val_loss: 0.2631 - val_acc: 0.9044\n",
      "Epoch 12/500\n",
      "22/22 [==============================] - 34s 2s/step - loss: 0.1901 - acc: 0.9260 - val_loss: 0.2766 - val_acc: 0.8984\n",
      "Epoch 13/500\n",
      "22/22 [==============================] - 35s 2s/step - loss: 0.1845 - acc: 0.9279 - val_loss: 0.2737 - val_acc: 0.9019\n",
      "Epoch 14/500\n",
      "22/22 [==============================] - 35s 2s/step - loss: 0.1763 - acc: 0.9318 - val_loss: 0.2725 - val_acc: 0.9052\n",
      "Epoch 15/500\n",
      "22/22 [==============================] - 35s 2s/step - loss: 0.1733 - acc: 0.9324 - val_loss: 0.3061 - val_acc: 0.8984\n",
      "Epoch 16/500\n",
      "22/22 [==============================] - 35s 2s/step - loss: 0.1673 - acc: 0.9355 - val_loss: 0.3405 - val_acc: 0.8960\n",
      "Epoch 17/500\n",
      "22/22 [==============================] - 35s 2s/step - loss: 0.1629 - acc: 0.9375 - val_loss: 0.3053 - val_acc: 0.9029\n",
      "Epoch 18/500\n",
      "22/22 [==============================] - 35s 2s/step - loss: 0.1587 - acc: 0.9398 - val_loss: 0.3285 - val_acc: 0.8949\n",
      "Epoch 19/500\n",
      "22/22 [==============================] - 35s 2s/step - loss: 0.1557 - acc: 0.9404 - val_loss: 0.3543 - val_acc: 0.8931\n",
      "Epoch 20/500\n",
      "22/22 [==============================] - 35s 2s/step - loss: 0.1509 - acc: 0.9430 - val_loss: 0.3591 - val_acc: 0.8934\n",
      "Epoch 21/500\n",
      "22/22 [==============================] - 35s 2s/step - loss: 0.1472 - acc: 0.9444 - val_loss: 0.3548 - val_acc: 0.8962\n",
      "Epoch 00021: early stopping\n"
     ]
    }
   ],
   "source": [
    "#GRU layer\n",
    "time_input= Input(shape=(None, feature), name='time')\n",
    "x0=layers.Masking(mask_value=-5)(time_input)\n",
    "\n",
    "x1=layers.Dense(layer_set[1][0], activation=activation_set[0][0])(x0)\n",
    "x11=layers.BatchNormalization()(x1)\n",
    "x12=layers.Dropout(0.5)(x11)\n",
    "\n",
    "x2=layers.GRU(layer_set[1][1], activation=activation_set[0][1], return_sequences=False)(x12)\n",
    "# x3 = layers.Dense(8)(x2)\n",
    "x4=layers.BatchNormalization()(x2)\n",
    "x5=layers.Dropout(0.5)(x4)\n",
    "# x6=layers.Dense(64)(x5)\n",
    "#static layer\n",
    "static_input=Input(shape=(38,),  name='static')\n",
    "x31 = layers.Dense(layer_set[1][2],activation=activation_set[0][2])(static_input)\n",
    "x32=layers.BatchNormalization()(x31)\n",
    "x33=layers.Dropout(0.5)(x32)\n",
    "#합친 모양\n",
    "concatenated = layers.concatenate([x5,x33], axis=-1)\n",
    "\n",
    "x7=layers.Dense(layer_set[1][3], activation=activation_set[0][3])(concatenated)\n",
    "x8=layers.BatchNormalization()(x7)\n",
    "x9=layers.Dropout(0.5)(x8)\n",
    "x10=layers.Dense(1, activation=activation_set[0][4])(x9)\n",
    "\n",
    "model=Model([time_input,static_input], x10)\n",
    "model.compile(loss=\"binary_crossentropy\", optimizer=adam(lr=learning_rate[j]), metrics=['accuracy'])\n",
    "\n",
    "MODEL_SAVE_FOLDER_PATH = file_foler+'_{}_{}_{}/'.format(0,1,1)\n",
    "filename = 'rnn_{}_{}_{}'.format(0,1,1)\n",
    "if not os.path.exists(MODEL_SAVE_FOLDER_PATH):\n",
    "  os.mkdir(MODEL_SAVE_FOLDER_PATH)\n",
    "\n",
    "model_path = MODEL_SAVE_FOLDER_PATH + filename+filepath\n",
    "checkpoint = ModelCheckpoint(model_path, monitor='val_loss', verbose=0,\n",
    "                             save_best_only=True, mode='min')\n",
    "\n",
    "rnn_operating_code=model.to_json()\n",
    "with open(MODEL_SAVE_FOLDER_PATH+filename+\".json\", \"w\") as json_file : \n",
    "    json_file.write(rnn_operating_code)\n",
    "history = History()\n",
    "early_stopping = EarlyStopping(monitor='val_loss', min_delta=0, patience=10, verbose=2, mode='auto')\n",
    "\n",
    "rnn_train = model.fit_generator(generator= traingen,\n",
    "                                 validation_data= valid_gen,\n",
    "                                steps_per_epoch=int(np.floor(len(baseline)*0.8/1300)),\n",
    "                                validation_steps=10,\n",
    "                                nb_epoch = 500, verbose=1, \n",
    "                                callbacks = [history, checkpoint\n",
    "                                             ,early_stopping\n",
    "                                            ],\n",
    "                                workers=-1, use_multiprocessing=True\n",
    "                               )"
   ]
  },
  {
   "cell_type": "code",
   "execution_count": 37,
   "metadata": {
    "scrolled": true
   },
   "outputs": [
    {
     "name": "stdout",
     "output_type": "stream",
     "text": [
      "AUROC of model :  0.9780392439841585\n",
      "AUPRC of model :  0.17217443445493316\n"
     ]
    }
   ],
   "source": [
    "json_file = open(MODEL_SAVE_FOLDER_PATH+filename+\".json\", \"r\")\n",
    "loaded_model_json = json_file.read() \n",
    "json_file.close()\n",
    "loaded_model = model_from_json(loaded_model_json)\n",
    "\n",
    "loaded_model.compile(loss=\"binary_crossentropy\", optimizer=adam(lr=.003), metrics=['accuracy'])\n",
    "loaded_model.load_weights(model_path)\n",
    "\n",
    "model_test = loaded_model.predict({\"time\":test_X, \"static\":test_static_X})\n",
    "roc_val_test = roc_auc_score(test_y, model_test)\n",
    "#mAP\n",
    "test_precision = average_precision_score(test_y, model_test)\n",
    "\n",
    "print(\"AUROC of model : \",roc_val_test)\n",
    "print(\"AUPRC of model : \", test_precision)"
   ]
  },
  {
   "cell_type": "code",
   "execution_count": 32,
   "metadata": {},
   "outputs": [],
   "source": [
    "table=pd.read_csv(\"table.csv\")"
   ]
  },
  {
   "cell_type": "code",
   "execution_count": 38,
   "metadata": {},
   "outputs": [],
   "source": [
    "SIRS_sensitivity = table.loc[table['criteria']==\"SIRS(score)\"].sensitivity\n",
    "SIRS_specificity = table.loc[table['criteria']==\"SIRS(score)\"].specificity\n",
    "SIRS_precision = table.loc[table['criteria']==\"SIRS(score)\"].precision\n",
    "mews_sen =table.loc[table['criteria']==\"mews(score)\"].sensitivity\n",
    "mews_spe = table.loc[table['criteria']==\"mews(score)\"].specificity\n",
    "mews_pre = table.loc[table['criteria']==\"mews(score)\"].precision\n",
    "sofa_sen = table.loc[table['criteria']==\"sofa(score)_x\"].sensitivity\n",
    "sofa_spe = table.loc[table['criteria']==\"sofa(score)_x\"].specificity\n",
    "sofa_pre = table.loc[table['criteria']==\"sofa(score)_x\"].precision"
   ]
  },
  {
   "cell_type": "code",
   "execution_count": 39,
   "metadata": {},
   "outputs": [
    {
     "data": {
      "text/plain": [
       "0    0.001999\n",
       "1    0.004749\n",
       "2    0.011343\n",
       "3    0.029098\n",
       "4    0.051306\n",
       "Name: precision, dtype: float64"
      ]
     },
     "execution_count": 39,
     "metadata": {},
     "output_type": "execute_result"
    }
   ],
   "source": [
    "SIRS_precision"
   ]
  },
  {
   "cell_type": "code",
   "execution_count": 40,
   "metadata": {},
   "outputs": [
    {
     "data": {
      "text/plain": [
       "<Figure size 360x360 with 0 Axes>"
      ]
     },
     "execution_count": 40,
     "metadata": {},
     "output_type": "execute_result"
    },
    {
     "data": {
      "text/plain": [
       "[<matplotlib.lines.Line2D at 0x7fccd653bb10>]"
      ]
     },
     "execution_count": 40,
     "metadata": {},
     "output_type": "execute_result"
    },
    {
     "data": {
      "text/plain": [
       "[<matplotlib.lines.Line2D at 0x7fccd655a1d0>]"
      ]
     },
     "execution_count": 40,
     "metadata": {},
     "output_type": "execute_result"
    },
    {
     "data": {
      "text/plain": [
       "[<matplotlib.lines.Line2D at 0x7fccd655a610>]"
      ]
     },
     "execution_count": 40,
     "metadata": {},
     "output_type": "execute_result"
    },
    {
     "data": {
      "text/plain": [
       "[<matplotlib.lines.Line2D at 0x7fccd655ad90>]"
      ]
     },
     "execution_count": 40,
     "metadata": {},
     "output_type": "execute_result"
    },
    {
     "data": {
      "text/plain": [
       "[<matplotlib.lines.Line2D at 0x7fccd655af90>]"
      ]
     },
     "execution_count": 40,
     "metadata": {},
     "output_type": "execute_result"
    },
    {
     "data": {
      "text/plain": [
       "Text(0.6, 0.02, 'SOFA')"
      ]
     },
     "execution_count": 40,
     "metadata": {},
     "output_type": "execute_result"
    },
    {
     "data": {
      "text/plain": [
       "[<matplotlib.lines.Line2D at 0x7fccd64f37d0>]"
      ]
     },
     "execution_count": 40,
     "metadata": {},
     "output_type": "execute_result"
    },
    {
     "data": {
      "text/plain": [
       "Text(0.463, 0.03, 'SIRS')"
      ]
     },
     "execution_count": 40,
     "metadata": {},
     "output_type": "execute_result"
    },
    {
     "data": {
      "text/plain": [
       "[<matplotlib.lines.Line2D at 0x7fccd64f3d10>]"
      ]
     },
     "execution_count": 40,
     "metadata": {},
     "output_type": "execute_result"
    },
    {
     "data": {
      "text/plain": [
       "Text(0.116, 0.05, 'MEWS')"
      ]
     },
     "execution_count": 40,
     "metadata": {},
     "output_type": "execute_result"
    },
    {
     "data": {
      "text/plain": [
       "Text(0.5, 0, 'Sensitivity (recall)')"
      ]
     },
     "execution_count": 40,
     "metadata": {},
     "output_type": "execute_result"
    },
    {
     "data": {
      "text/plain": [
       "Text(0, 0.5, 'Positive predictive value (precision)')"
      ]
     },
     "execution_count": 40,
     "metadata": {},
     "output_type": "execute_result"
    },
    {
     "data": {
      "text/plain": [
       "(0.0, 1.05)"
      ]
     },
     "execution_count": 40,
     "metadata": {},
     "output_type": "execute_result"
    },
    {
     "data": {
      "text/plain": [
       "(0.0, 1.0)"
      ]
     },
     "execution_count": 40,
     "metadata": {},
     "output_type": "execute_result"
    },
    {
     "data": {
      "text/plain": [
       "Text(0.5, 1.0, 'Precision-Recall curve')"
      ]
     },
     "execution_count": 40,
     "metadata": {},
     "output_type": "execute_result"
    },
    {
     "data": {
      "text/plain": [
       "<matplotlib.legend.Legend at 0x7fccd64f3dd0>"
      ]
     },
     "execution_count": 40,
     "metadata": {},
     "output_type": "execute_result"
    },
    {
     "data": {
      "image/png": "[encoded data removed]",
      "text/plain": [
       "<Figure size 360x360 with 1 Axes>"
      ]
     },
     "metadata": {
      "needs_background": "light"
     },
     "output_type": "display_data"
    }
   ],
   "source": [
    "average_precision = average_precision_score(test_y, model_test)\n",
    "\n",
    "precision, recall, _ = precision_recall_curve(test_y, model_test)\n",
    "# precision, recall, _ = precision_recall_curve(a2, y_pred_val)\n",
    "\n",
    "# In matplotlib < 1.5, plt.fill_between does not have a 'step' argument\n",
    "step_kwargs = ({'step': 'post'}\n",
    "               if 'step' in signature(plt.fill_between).parameters\n",
    "               else {})\n",
    "\n",
    "plt.figure(figsize=[5,5])\n",
    "plt.plot(recall, precision, color='navy', label = \"Our model\")\n",
    "plt.plot(SIRS_sensitivity, SIRS_precision, 'orange', label = \"SIRS\")\n",
    "plt.plot(mews_sen, mews_pre, \"deepskyblue\", label = \"MEWS\")\n",
    "plt.plot(sofa_sen, sofa_pre, \"green\", label = \"SOFA\")\n",
    "#SOFA click\n",
    "plt.plot(0.60, 0.006, 'green', marker='o')\n",
    "plt.annotate(\"SOFA\",(0.6, 0.02))\n",
    "#SIRS click\n",
    "plt.plot(0.463, 0.011, 'orange', marker='o')\n",
    "plt.annotate(\"SIRS\",(0.463, 0.03))\n",
    "#MEWS click\n",
    "plt.plot(0.116, 0.031, 'deepskyblue', marker='o')\n",
    "plt.annotate(\"MEWS\",(0.116, 0.05))\n",
    "\n",
    "plt.xlabel('Sensitivity (recall)', fontsize= 12)\n",
    "plt.ylabel('Positive predictive value (precision)', fontsize= 12)\n",
    "plt.ylim([0.0, 1.05])\n",
    "plt.xlim([0.0, 1.0])\n",
    "plt.title('Precision-Recall curve', fontsize= 14)\n",
    "plt.legend()"
   ]
  },
  {
   "cell_type": "code",
   "execution_count": 41,
   "metadata": {},
   "outputs": [
    {
     "data": {
      "text/plain": [
       "<Figure size 360x360 with 0 Axes>"
      ]
     },
     "execution_count": 41,
     "metadata": {},
     "output_type": "execute_result"
    },
    {
     "data": {
      "text/plain": [
       "[<matplotlib.lines.Line2D at 0x7fccd65ecb10>]"
      ]
     },
     "execution_count": 41,
     "metadata": {},
     "output_type": "execute_result"
    },
    {
     "data": {
      "text/plain": [
       "[<matplotlib.lines.Line2D at 0x7fccd65f92d0>]"
      ]
     },
     "execution_count": 41,
     "metadata": {},
     "output_type": "execute_result"
    },
    {
     "data": {
      "text/plain": [
       "[<matplotlib.lines.Line2D at 0x7fccd65f98d0>]"
      ]
     },
     "execution_count": 41,
     "metadata": {},
     "output_type": "execute_result"
    },
    {
     "data": {
      "text/plain": [
       "[<matplotlib.lines.Line2D at 0x7fccd65f91d0>]"
      ]
     },
     "execution_count": 41,
     "metadata": {},
     "output_type": "execute_result"
    },
    {
     "data": {
      "text/plain": [
       "[<matplotlib.lines.Line2D at 0x7fccd65f9e90>]"
      ]
     },
     "execution_count": 41,
     "metadata": {},
     "output_type": "execute_result"
    },
    {
     "data": {
      "text/plain": [
       "Text(0.22799999999999998, 0.57, 'SOFA')"
      ]
     },
     "execution_count": 41,
     "metadata": {},
     "output_type": "execute_result"
    },
    {
     "data": {
      "text/plain": [
       "[<matplotlib.lines.Line2D at 0x7fccd65fa850>]"
      ]
     },
     "execution_count": 41,
     "metadata": {},
     "output_type": "execute_result"
    },
    {
     "data": {
      "text/plain": [
       "Text(0.020000000000000018, 0.48, 'SIRS')"
      ]
     },
     "execution_count": 41,
     "metadata": {},
     "output_type": "execute_result"
    },
    {
     "data": {
      "text/plain": [
       "[<matplotlib.lines.Line2D at 0x7fccd65fa9d0>]"
      ]
     },
     "execution_count": 41,
     "metadata": {},
     "output_type": "execute_result"
    },
    {
     "data": {
      "text/plain": [
       "Text(0.020000000000000018, 0.116, 'MEWS')"
      ]
     },
     "execution_count": 41,
     "metadata": {},
     "output_type": "execute_result"
    },
    {
     "data": {
      "text/plain": [
       "(0.0, 1.05)"
      ]
     },
     "execution_count": 41,
     "metadata": {},
     "output_type": "execute_result"
    },
    {
     "data": {
      "text/plain": [
       "(0.0, 1.0)"
      ]
     },
     "execution_count": 41,
     "metadata": {},
     "output_type": "execute_result"
    },
    {
     "data": {
      "text/plain": [
       "Text(0.5, 0, '1-specificity')"
      ]
     },
     "execution_count": 41,
     "metadata": {},
     "output_type": "execute_result"
    },
    {
     "data": {
      "text/plain": [
       "Text(0, 0.5, 'sensitivity')"
      ]
     },
     "execution_count": 41,
     "metadata": {},
     "output_type": "execute_result"
    },
    {
     "data": {
      "text/plain": [
       "<matplotlib.legend.Legend at 0x7fccd65faf90>"
      ]
     },
     "execution_count": 41,
     "metadata": {},
     "output_type": "execute_result"
    },
    {
     "data": {
      "text/plain": [
       "Text(0.5, 1.0, 'AUROC curve')"
      ]
     },
     "execution_count": 41,
     "metadata": {},
     "output_type": "execute_result"
    },
    {
     "data": {
      "image/png": "[encoded data removed]",
      "text/plain": [
       "<Figure size 360x360 with 1 Axes>"
      ]
     },
     "metadata": {
      "needs_background": "light"
     },
     "output_type": "display_data"
    }
   ],
   "source": [
    "\n",
    "fpr, tpr, _ = roc_curve(test_y, model_test)\n",
    "auc = np.trapz(tpr,fpr)\n",
    "\n",
    "# Print ROC curve\n",
    "step_kwargs = ({'step': 'post'}\n",
    "               if 'step' in signature(plt.fill_between).parameters\n",
    "               else {})\n",
    "\n",
    "plt.figure(figsize=[5,5])\n",
    "plt.plot(fpr, tpr, color='navy', label=\"Our model\")\n",
    "plt.plot((1-SIRS_specificity), SIRS_sensitivity , 'orange', label = \"SIRS\")\n",
    "plt.plot((1-mews_spe), mews_sen, \"deepskyblue\", label = \"MEWS\")\n",
    "plt.plot((1-sofa_spe), sofa_sen, \"green\", label = \"SOFA\")\n",
    "\n",
    "#SOFA click\n",
    "plt.plot((1-0.792), 0.600, 'green', marker = 'o')\n",
    "plt.annotate(\"SOFA\",((1-0.772), 0.57))\n",
    "#SIRS click\n",
    "plt.plot((1-0.919), 0.463, 'orange', marker = 'o')\n",
    "plt.annotate(\"SIRS\",((1-0.98), 0.48))\n",
    "#MEWS click\n",
    "plt.plot((1-0.993), 0.116, 'deepskyblue', marker = \"o\")\n",
    "plt.annotate(\"MEWS\",((1-0.98), 0.116))\n",
    "\n",
    "plt.ylim([0.0, 1.05])\n",
    "plt.xlim([0.0, 1.0])\n",
    "plt.xlabel('1-specificity', fontsize= 12)\n",
    "plt.ylabel('sensitivity', fontsize= 12)\n",
    "plt.legend()\n",
    "\n",
    "plt.title('AUROC curve', fontsize= 14)\n",
    "plt.savefig(MODEL_SAVE_FOLDER_PATH+filename+'roc.png')\n",
    "\n",
    "\n"
   ]
  },
  {
   "cell_type": "markdown",
   "metadata": {},
   "source": [
    "### model evaluation"
   ]
  },
  {
   "cell_type": "markdown",
   "metadata": {},
   "source": [
    "### occlusion analysis\n",
    "list of column\n",
    "* \"Vital_Sign\"\n",
    "* \"hct\"\n",
    "* \"Electrolyte\"\n",
    "* \"Kidney related value\"\n",
    "* \"Inflammatory_marker\"\n",
    "* \"WBC\"\n",
    "* \"ABGA\"\n",
    "* \"Liver_function_test\"\n",
    "* time-invariant data"
   ]
  },
  {
   "cell_type": "code",
   "execution_count": 42,
   "metadata": {},
   "outputs": [],
   "source": [
    "test_generator = file_generator_valid(window = window,\n",
    "                                       time_it =time_it, \n",
    "                                       feature = feature,\n",
    "                                       list_time_Xt = test_time_X, \n",
    "                                       list_time_yt = test_time_y, \n",
    "                                       list_time_tstatic = test_time_static, \n",
    "                                       list_time_Xn = test_time_Xn, \n",
    "                                       list_time_yn = test_time_yn, \n",
    "                                       list_time_nstatic = test_time_staticn)\n",
    "\n",
    "test_X, test_static_X, test_y = test_generator.get_data()"
   ]
  },
  {
   "cell_type": "code",
   "execution_count": 53,
   "metadata": {},
   "outputs": [],
   "source": [
    "\n",
    "start = [4,16,28,40,52,64,76,88]\n",
    "n=12\n",
    "\n",
    "original_test_X = test_X.copy()"
   ]
  },
  {
   "cell_type": "code",
   "execution_count": 66,
   "metadata": {},
   "outputs": [],
   "source": [
    "outcome_result = []\n",
    "list_of_column = [\"Vital_Sign\",\"hct\",\"Electrolyte\",\"Kidney related value\",\"Inflammatory_marker\",\n",
    "                 \"WBC\",\"ABGA\",\"Liver_function_test\"]\n",
    "number = 0\n",
    "for point in start:\n",
    "    test_X = original_test_X.copy()\n",
    "    test_X[:,:,point:point+n][test_X[:,:,point:point+n]!=-5]=0\n",
    "    model_test = loaded_model.predict({\"time\":test_X, \"static\":test_static_X})\n",
    "    roc_val_test = roc_auc_score(test_y, model_test)\n",
    "    test_precision = average_precision_score(test_y, model_test)\n",
    "\n",
    "    # roc_val, average_precision, \n",
    "    outcome_result.append({\"group\":list_of_column[number],\n",
    "                           \"AUROC\":roc_val_test ,\n",
    "                           \"AUPRC\":test_precision})\n",
    "    number +=1"
   ]
  },
  {
   "cell_type": "code",
   "execution_count": 68,
   "metadata": {},
   "outputs": [],
   "source": [
    "occluding_X=test_static_X.copy()\n",
    "occluding_X[:]=0"
   ]
  },
  {
   "cell_type": "code",
   "execution_count": 69,
   "metadata": {},
   "outputs": [
    {
     "data": {
      "text/plain": [
       "(0.9689598913542313, 0.14265733519591678)"
      ]
     },
     "execution_count": 69,
     "metadata": {},
     "output_type": "execute_result"
    }
   ],
   "source": [
    "#AUROC\n",
    "# model_val = loaded_model.predict({\"time\":valid_X, \"static\":valid_static_X})\n",
    "# roc_val = roc_auc_score(valid_y, model_val)\n",
    "model_test = loaded_model.predict({\"time\":test_X, \"static\":occluding_X})\n",
    "roc_val_test = roc_auc_score(test_y, model_test)\n",
    "#mAP\n",
    "# average_precision = average_precision_score(valid_y, model_val)\n",
    "test_precision = average_precision_score(test_y, model_test)\n",
    "\n",
    "# roc_val, average_precision, \n",
    "roc_val_test , test_precision"
   ]
  },
  {
   "cell_type": "code",
   "execution_count": 72,
   "metadata": {},
   "outputs": [
    {
     "data": {
      "text/html": [
       "<div>\n",
       "<style scoped>\n",
       "    .dataframe tbody tr th:only-of-type {\n",
       "        vertical-align: middle;\n",
       "    }\n",
       "\n",
       "    .dataframe tbody tr th {\n",
       "        vertical-align: top;\n",
       "    }\n",
       "\n",
       "    .dataframe thead th {\n",
       "        text-align: right;\n",
       "    }\n",
       "</style>\n",
       "<table border=\"1\" class=\"dataframe\">\n",
       "  <thead>\n",
       "    <tr style=\"text-align: right;\">\n",
       "      <th></th>\n",
       "      <th>group</th>\n",
       "      <th>AUROC</th>\n",
       "      <th>AUPRC</th>\n",
       "    </tr>\n",
       "  </thead>\n",
       "  <tbody>\n",
       "    <tr>\n",
       "      <td>0</td>\n",
       "      <td>Vital_Sign</td>\n",
       "      <td>0.854117</td>\n",
       "      <td>0.051757</td>\n",
       "    </tr>\n",
       "    <tr>\n",
       "      <td>3</td>\n",
       "      <td>Kidney related value</td>\n",
       "      <td>0.946621</td>\n",
       "      <td>0.064617</td>\n",
       "    </tr>\n",
       "    <tr>\n",
       "      <td>5</td>\n",
       "      <td>WBC</td>\n",
       "      <td>0.955581</td>\n",
       "      <td>0.075492</td>\n",
       "    </tr>\n",
       "    <tr>\n",
       "      <td>2</td>\n",
       "      <td>Electrolyte</td>\n",
       "      <td>0.962377</td>\n",
       "      <td>0.107562</td>\n",
       "    </tr>\n",
       "    <tr>\n",
       "      <td>1</td>\n",
       "      <td>hct</td>\n",
       "      <td>0.965683</td>\n",
       "      <td>0.108604</td>\n",
       "    </tr>\n",
       "    <tr>\n",
       "      <td>6</td>\n",
       "      <td>ABGA</td>\n",
       "      <td>0.968850</td>\n",
       "      <td>0.124117</td>\n",
       "    </tr>\n",
       "    <tr>\n",
       "      <td>4</td>\n",
       "      <td>Inflammatory_marker</td>\n",
       "      <td>0.975475</td>\n",
       "      <td>0.139766</td>\n",
       "    </tr>\n",
       "    <tr>\n",
       "      <td>8</td>\n",
       "      <td>time_invariant_value</td>\n",
       "      <td>0.968960</td>\n",
       "      <td>0.142657</td>\n",
       "    </tr>\n",
       "    <tr>\n",
       "      <td>7</td>\n",
       "      <td>Liver_function_test</td>\n",
       "      <td>0.976142</td>\n",
       "      <td>0.150692</td>\n",
       "    </tr>\n",
       "  </tbody>\n",
       "</table>\n",
       "</div>"
      ],
      "text/plain": [
       "                  group     AUROC     AUPRC\n",
       "0            Vital_Sign  0.854117  0.051757\n",
       "3  Kidney related value  0.946621  0.064617\n",
       "5                   WBC  0.955581  0.075492\n",
       "2           Electrolyte  0.962377  0.107562\n",
       "1                   hct  0.965683  0.108604\n",
       "6                  ABGA  0.968850  0.124117\n",
       "4   Inflammatory_marker  0.975475  0.139766\n",
       "8  time_invariant_value  0.968960  0.142657\n",
       "7   Liver_function_test  0.976142  0.150692"
      ]
     },
     "execution_count": 72,
     "metadata": {},
     "output_type": "execute_result"
    }
   ],
   "source": [
    "outcome_result.append({\"group\":\"time_invariant_value\",\n",
    "                     \"AUROC\":roc_val_test,\n",
    "                     \"AUPRC\":test_precision})\n",
    "pd.DataFrame(outcome_result).sort_values(\"AUPRC\")"
   ]
  }
 ],
 "metadata": {
  "kernelspec": {
   "display_name": "park",
   "language": "python",
   "name": "park"
  },
  "language_info": {
   "codemirror_mode": {
    "name": "ipython",
    "version": 3
   },
   "file_extension": ".py",
   "mimetype": "text/x-python",
   "name": "python",
   "nbconvert_exporter": "python",
   "pygments_lexer": "ipython3",
   "version": "3.7.4"
  }
 },
 "nbformat": 4,
 "nbformat_minor": 4
}
